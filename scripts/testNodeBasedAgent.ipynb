{
 "cells": [
  {
   "cell_type": "code",
   "execution_count": 35,
   "id": "ca9dca81",
   "metadata": {},
   "outputs": [],
   "source": [
    "# Imports\n",
    "from collections import Counter\n",
    "import os\n",
    "import torch\n",
    "import torch.nn as nn\n",
    "from transformers import AutoTokenizer\n",
    "import uuid\n",
    "import time\n",
    "import numpy as np\n",
    "import matplotlib as plt\n",
    "import json\n",
    "import openai\n",
    "import requests\n",
    "from tenacity import retry, wait_random_exponential, stop_after_attempt\n",
    "from termcolor import colored\n",
    "from tqdm import tqdm"
   ]
  },
  {
   "cell_type": "code",
   "execution_count": 36,
   "id": "7782ef31",
   "metadata": {},
   "outputs": [],
   "source": [
    "# get keys\n",
    "OPENA_AI_API_KEY = os.getenv('OPENA_AI_API_KEY')\n",
    "OPENA_AI_ORG_ID = os.getenv('OPENA_AI_ORG_ID')\n",
    "\n",
    "GPT_MODEL = \"gpt-4\"\n",
    "\n",
    "def pretty_print_conversation(messages):\n",
    "    role_to_color = {\n",
    "        \"system\": \"red\",\n",
    "        \"user\": \"green\",\n",
    "        \"assistant\": \"blue\",\n",
    "        \"function\": \"magenta\",\n",
    "    }\n",
    "    \n",
    "    for message in messages:\n",
    "        if message[\"role\"] == \"system\":\n",
    "            print(colored(f\"system: {message['content']}\\n\", role_to_color[message[\"role\"]]))\n",
    "        elif message[\"role\"] == \"user\":\n",
    "            print(colored(f\"user: {message['content']}\\n\", role_to_color[message[\"role\"]]))\n",
    "        elif message[\"role\"] == \"assistant\" and message.get(\"function_call\"):\n",
    "            print(colored(f\"assistant: {message['function_call']}\\n\", role_to_color[message[\"role\"]]))\n",
    "        elif message[\"role\"] == \"assistant\" and not message.get(\"function_call\"):\n",
    "            print(colored(f\"assistant: {message['content']}\\n\", role_to_color[message[\"role\"]]))\n",
    "        elif message[\"role\"] == \"function\":\n",
    "            print(colored(f\"function ({message['name']}): {message['content']}\\n\", role_to_color[message[\"role\"]]))\n",
    "\n",
    "\n",
    "\n"
   ]
  },
  {
   "cell_type": "code",
   "execution_count": 37,
   "id": "e8ee63ac",
   "metadata": {},
   "outputs": [
    {
     "name": "stdout",
     "output_type": "stream",
     "text": [
      "You are responsible for managing a tldraw canvas shape editor with abilities to manipulate shapes and the editor's state. You can create, modify, delete shapes, and control the internal state..\n",
      "- Editor: Manage the internal state, make document changes, or respond to changes.\n",
      "- Shapes: Visual elements on the canvas.\n",
      "  - Shapes:\n",
      "    {'name': 'draw', 'description': 'Create shapes with custom paths.'}\n",
      "    {'name': 'text', 'description': 'Add text.'}\n",
      "    {'name': 'arrow', 'description': 'Draw an arrow between points'}\n",
      "    {'name': 'geo', 'description': 'Create geometric shapes'}\n",
      "Every prompt will include the current state and user's request. Response with the sequence of function calls to perform the user's request.\n",
      "\n",
      "---------\n",
      "[{'name': 'create_shape', 'description': 'Create a shape on the canvas.', 'parameters': {'type': 'object', 'properties': {'x': {'type': 'number', 'description': 'x-coordinate of the shape'}, 'y': {'type': 'number', 'description': 'y-coordinate of the shape'}, 'rotation': {'type': 'number', 'description': 'rotation of the shape'}, 'id': {'type': 'string', 'description': 'Unique identifier for the shape'}, 'type': {'type': 'string', 'enum': ['draw', 'text', 'arrow', 'geo'], 'description': 'Type of the shape, e.g. geo'}, 'props': {'type': 'object', 'properties': {'w': {'type': 'number', 'description': 'Width of the shape'}, 'h': {'type': 'number', 'description': 'Height of the shape'}, 'geo': {'type': 'string', 'enum': ['rectangle', 'circle'], 'description': 'Geometric shape, e.g. rectangle'}, 'text': {'type': 'string', 'description': 'Text to display on the shape'}}}}}}, {'name': 'update_shape', 'description': 'Update a shape on the canvas.', 'parameters': {'type': 'object', 'properties': {'x': {'type': 'number', 'description': 'x-coordinate of the shape'}, 'y': {'type': 'number', 'description': 'y-coordinate of the shape'}, 'rotation': {'type': 'number', 'description': 'rotation of the shape'}, 'id': {'type': 'string', 'description': 'Unique identifier for the shape'}, 'type': {'type': 'string', 'enum': ['draw', 'text', 'arrow', 'geo'], 'description': 'Type of the shape, e.g. geo'}, 'props': {'type': 'object', 'properties': {'w': {'type': 'number', 'description': 'Width of the shape'}, 'h': {'type': 'number', 'description': 'Height of the shape'}, 'geo': {'type': 'string', 'enum': ['rectangle', 'circle'], 'description': 'Geometric shape, e.g. rectangle'}, 'text': {'type': 'string', 'description': 'Text to display on the shape'}}}}}}]\n"
     ]
    }
   ],
   "source": [
    "explanation = '''You are responsible for managing a tldraw canvas shape editor with abilities to manipulate shapes and the editor's state. You can create, modify, delete shapes, and control the internal state..'''\n",
    "\n",
    "editor_explanaton = '''Manage the internal state, make document changes, or respond to changes.'''\n",
    "\n",
    "editor_functions = [\n",
    "    'create_shape',\n",
    "    'update_shape',\n",
    "]\n",
    "\n",
    "\n",
    "editor_functions_docs = [\n",
    "    'Create a shape on the canvas.',\n",
    "    'Update a shape on the canvas.',\n",
    "]\n",
    "\n",
    "shapes_explanation = '''Visual elements on the canvas.'''\n",
    "shapes = [\n",
    "    'draw',\n",
    "    'text',\n",
    "    'arrow',\n",
    "    'geo',\n",
    "]\n",
    "shape_docs = [\n",
    "    'Create shapes with custom paths.',\n",
    "    'Add text.',\n",
    "    'Draw an arrow between points',\n",
    "    'Create geometric shapes',\n",
    "]\n",
    "\n",
    "\n",
    "editor_functions_args = [\n",
    "    {\n",
    "    \"type\": \"object\",\n",
    "    \"properties\": {\n",
    "      \"x\": {\n",
    "        \"type\": \"number\",\n",
    "        \"description\": \"x-coordinate of the shape\"\n",
    "      },\n",
    "      \"y\": {\n",
    "        \"type\": \"number\",\n",
    "        \"description\": \"y-coordinate of the shape\"\n",
    "      },\n",
    "      \"rotation\": {\n",
    "        \"type\": \"number\",\n",
    "        \"description\": \"rotation of the shape\"\n",
    "      },\n",
    "      \"id\": {\n",
    "        \"type\": \"string\",\n",
    "        \"description\": \"Unique identifier for the shape\"\n",
    "      },\n",
    "      \"type\": {\n",
    "        \"type\": \"string\",\n",
    "        \"enum\": shapes,\n",
    "        \"description\": \"Type of the shape, e.g. geo\"\n",
    "      },\n",
    "      \"props\": {\n",
    "        \"type\": \"object\",\n",
    "        \"properties\": {\n",
    "          \"w\": {\n",
    "            \"type\": \"number\",\n",
    "            \"description\": \"Width of the shape\"\n",
    "          },\n",
    "          \"h\": {\n",
    "            \"type\": \"number\",\n",
    "            \"description\": \"Height of the shape\"\n",
    "          },\n",
    "          \"geo\": {\n",
    "            \"type\": \"string\",\n",
    "            \"enum\": [\"rectangle\", \"circle\"],\n",
    "            \"description\": \"Geometric shape, e.g. rectangle\"\n",
    "          },\n",
    "          \"text\": {\n",
    "            \"type\": \"string\",\n",
    "            \"description\": \"Text to display on the shape\"\n",
    "          }\n",
    "        },\n",
    "      }\n",
    "    },\n",
    "} for i in range(len(editor_functions))\n",
    "]\n",
    "\n",
    "\n",
    "\n",
    "\n",
    "\n",
    "functions = [\n",
    "    {\n",
    "        \"name\": editor_functions[i],\n",
    "        \"description\": editor_functions_docs[i],\n",
    "        \"parameters\": editor_functions_args[i],\n",
    "    } for i in range(len(editor_functions))\n",
    "]\n",
    "\n",
    "\n",
    "shapes_list = [\n",
    "    {\n",
    "        \"name\": shapes[i],\n",
    "        \"description\": shape_docs[i],\n",
    "    } for i in range(len(shapes))\n",
    "]\n",
    "functions_str = '\\n    '.join([str(function) for function in functions])\n",
    "shapes_str = '\\n    '.join([str(shape) for shape in shapes_list])\n",
    "\n",
    "\n",
    "system_prompt = f'''{explanation}\n",
    "- Editor: {editor_explanaton}\n",
    "- Shapes: {shapes_explanation}\n",
    "  - Shapes:\n",
    "    {shapes_str}\n",
    "Every prompt will include the current state and user's request. Response with the sequence of function calls to perform the user's request.\n",
    "'''\n",
    "\n",
    "print(system_prompt)\n",
    "\n",
    "print('---------')\n",
    "\n",
    "print(functions)"
   ]
  },
  {
   "cell_type": "code",
   "execution_count": 38,
   "id": "994e073b",
   "metadata": {},
   "outputs": [
    {
     "name": "stdout",
     "output_type": "stream",
     "text": [
      "Current state: {'screen_bounds': {'x': 0, 'y': 0, 'w': 1512, 'h': 610}, 'shapes': [{'x': 391.20834875401147, 'y': 237.18911086754463, 'rotation': 5.759586531581287, 'id': 'shape:shape-0', 'type': 'geo', 'props': {'w': 130, 'h': 70, 'geo': 'rectangle', 'text': 'display-0'}}, {'x': 262.8108891324554, 'y': 161.20834875401147, 'id': 'shape:shape-1', 'type': 'geo', 'props': {'w': 130, 'h': 70, 'geo': 'rectangle', 'color': 'blue', 'text': 'display-1'}}, {'x': 630, 'y': 170, 'rotation': 3.141592653589793, 'id': 'shape:shape-2', 'type': 'geo', 'props': {'w': 130, 'h': 70, 'geo': 'rectangle', 'text': 'display-2'}}], 'selected_shape_ids': []}\n"
     ]
    }
   ],
   "source": [
    "current_state = {\n",
    "    \"screen_bounds\": {\n",
    "        \"x\": 0,\n",
    "        \"y\": 0,\n",
    "        \"w\": 1512,\n",
    "        \"h\": 610,\n",
    "    },\n",
    "    \"shapes\": [\n",
    "    {\n",
    "        \"x\": 391.20834875401147,\n",
    "        \"y\": 237.18911086754463,\n",
    "        \"rotation\": 5.759586531581287,\n",
    "        \"id\": \"shape:shape-0\",\n",
    "        \"type\": \"geo\",\n",
    "        \"props\": {\n",
    "            \"w\": 130,\n",
    "            \"h\": 70,\n",
    "            \"geo\": \"rectangle\",\n",
    "            \"text\": \"display-0\",\n",
    "        },\n",
    "    },\n",
    "    {\n",
    "        \"x\": 262.8108891324554,\n",
    "        \"y\": 161.20834875401147,\n",
    "        \"id\": \"shape:shape-1\",\n",
    "        \"type\": \"geo\",\n",
    "        \"props\": {\n",
    "            \"w\": 130,\n",
    "            \"h\": 70,\n",
    "            \"geo\": \"rectangle\",\n",
    "            \"color\": \"blue\",\n",
    "            \"text\": \"display-1\",\n",
    "        },\n",
    "    },\n",
    "    {\n",
    "        \"x\": 630,\n",
    "        \"y\": 170,\n",
    "        \"rotation\": 3.141592653589793,\n",
    "        \"id\": \"shape:shape-2\",\n",
    "        \"type\": \"geo\",\n",
    "        \"props\": {\n",
    "            \"w\": 130,\n",
    "            \"h\": 70,\n",
    "            \"geo\": \"rectangle\",\n",
    "            \"text\": \"display-2\",\n",
    "        },\n",
    "    }\n",
    "],\n",
    "\"selected_shape_ids\": [],\n",
    "}\n",
    "\n",
    "def get_current_state(current_state):\n",
    "    return f'''Current state: {current_state}'''\n",
    "\n",
    "print(get_current_state(current_state))"
   ]
  },
  {
   "cell_type": "code",
   "execution_count": 39,
   "id": "12b75ae1",
   "metadata": {},
   "outputs": [],
   "source": [
    "user_prompt = '''Align all of the shapes horizontally in a row, with all text facing upright.'''"
   ]
  },
  {
   "cell_type": "code",
   "execution_count": 40,
   "id": "ae9c1e49",
   "metadata": {},
   "outputs": [],
   "source": [
    "messages = []\n",
    "messages.append({\"role\": \"system\", \"content\": system_prompt})\n",
    "messages.append({\"role\": \"system\", \"content\": get_current_state(current_state)})\n",
    "messages.append({\"role\": \"user\", \"content\": user_prompt})\n"
   ]
  },
  {
   "cell_type": "code",
   "execution_count": 41,
   "id": "3e87ebb7",
   "metadata": {},
   "outputs": [
    {
     "name": "stdout",
     "output_type": "stream",
     "text": [
      "{'name': 'create_shape', 'description': 'Create a shape on the canvas.', 'parameters': {'type': 'object', 'properties': {'x': {'type': 'number', 'description': 'x-coordinate of the shape'}, 'y': {'type': 'number', 'description': 'y-coordinate of the shape'}, 'rotation': {'type': 'number', 'description': 'rotation of the shape'}, 'id': {'type': 'string', 'description': 'Unique identifier for the shape'}, 'type': {'type': 'string', 'enum': ['draw', 'text', 'arrow', 'geo'], 'description': 'Type of the shape, e.g. geo'}, 'props': {'type': 'object', 'properties': {'w': {'type': 'number', 'description': 'Width of the shape'}, 'h': {'type': 'number', 'description': 'Height of the shape'}, 'geo': {'type': 'string', 'enum': ['rectangle', 'circle'], 'description': 'Geometric shape, e.g. rectangle'}, 'text': {'type': 'string', 'description': 'Text to display on the shape'}}}}}}\n",
      "{'name': 'update_shape', 'description': 'Update a shape on the canvas.', 'parameters': {'type': 'object', 'properties': {'x': {'type': 'number', 'description': 'x-coordinate of the shape'}, 'y': {'type': 'number', 'description': 'y-coordinate of the shape'}, 'rotation': {'type': 'number', 'description': 'rotation of the shape'}, 'id': {'type': 'string', 'description': 'Unique identifier for the shape'}, 'type': {'type': 'string', 'enum': ['draw', 'text', 'arrow', 'geo'], 'description': 'Type of the shape, e.g. geo'}, 'props': {'type': 'object', 'properties': {'w': {'type': 'number', 'description': 'Width of the shape'}, 'h': {'type': 'number', 'description': 'Height of the shape'}, 'geo': {'type': 'string', 'enum': ['rectangle', 'circle'], 'description': 'Geometric shape, e.g. rectangle'}, 'text': {'type': 'string', 'description': 'Text to display on the shape'}}}}}}\n"
     ]
    }
   ],
   "source": [
    "for i in functions:\n",
    "    print(i)\n"
   ]
  },
  {
   "cell_type": "code",
   "execution_count": 42,
   "id": "62d13fa0",
   "metadata": {},
   "outputs": [],
   "source": [
    "response = openai.ChatCompletion.create(\n",
    "  model=GPT_MODEL,\n",
    "  messages=messages,\n",
    "  temperature=0.2,\n",
    "  functions=functions,\n",
    " )"
   ]
  },
  {
   "cell_type": "code",
   "execution_count": 43,
   "id": "190f8c6d",
   "metadata": {},
   "outputs": [
    {
     "name": "stdout",
     "output_type": "stream",
     "text": [
      "{\n",
      "  \"id\": \"chatcmpl-7nfd9JiwW5yQC8MFSmq1bVygF6Nd0\",\n",
      "  \"object\": \"chat.completion\",\n",
      "  \"created\": 1692072455,\n",
      "  \"model\": \"gpt-4-0613\",\n",
      "  \"choices\": [\n",
      "    {\n",
      "      \"index\": 0,\n",
      "      \"message\": {\n",
      "        \"role\": \"assistant\",\n",
      "        \"content\": \"[\\n  {\\\"function\\\": \\\"functions.update_shape\\\", \\\"args\\\": {\\\"id\\\": \\\"shape:shape-0\\\", \\\"x\\\": 200, \\\"y\\\": 300, \\\"rotation\\\": 0}},\\n  {\\\"function\\\": \\\"functions.update_shape\\\", \\\"args\\\": {\\\"id\\\": \\\"shape:shape-1\\\", \\\"x\\\": 400, \\\"y\\\": 300, \\\"rotation\\\": 0}},\\n  {\\\"function\\\": \\\"functions.update_shape\\\", \\\"args\\\": {\\\"id\\\": \\\"shape:shape-2\\\", \\\"x\\\": 600, \\\"y\\\": 300, \\\"rotation\\\": 0}}\\n]\"\n",
      "      },\n",
      "      \"finish_reason\": \"stop\"\n",
      "    }\n",
      "  ],\n",
      "  \"usage\": {\n",
      "    \"prompt_tokens\": 710,\n",
      "    \"completion_tokens\": 123,\n",
      "    \"total_tokens\": 833\n",
      "  }\n",
      "}\n"
     ]
    }
   ],
   "source": [
    "print(response)"
   ]
  },
  {
   "cell_type": "code",
   "execution_count": 44,
   "id": "72cc3843",
   "metadata": {},
   "outputs": [
    {
     "name": "stdout",
     "output_type": "stream",
     "text": [
      "{\n",
      "  \"role\": \"assistant\",\n",
      "  \"content\": \"[\\n  {\\\"function\\\": \\\"functions.update_shape\\\", \\\"args\\\": {\\\"id\\\": \\\"shape:shape-0\\\", \\\"x\\\": 200, \\\"y\\\": 300, \\\"rotation\\\": 0}},\\n  {\\\"function\\\": \\\"functions.update_shape\\\", \\\"args\\\": {\\\"id\\\": \\\"shape:shape-1\\\", \\\"x\\\": 400, \\\"y\\\": 300, \\\"rotation\\\": 0}},\\n  {\\\"function\\\": \\\"functions.update_shape\\\", \\\"args\\\": {\\\"id\\\": \\\"shape:shape-2\\\", \\\"x\\\": 600, \\\"y\\\": 300, \\\"rotation\\\": 0}}\\n]\"\n",
      "}\n"
     ]
    }
   ],
   "source": [
    "assistant_message = response[\"choices\"][0][\"message\"]\n",
    "print(assistant_message)\n",
    "\n",
    "messages.append(assistant_message)"
   ]
  },
  {
   "cell_type": "code",
   "execution_count": 45,
   "id": "b9381619",
   "metadata": {},
   "outputs": [
    {
     "name": "stdout",
     "output_type": "stream",
     "text": [
      "\u001b[31msystem: You are responsible for managing a tldraw canvas shape editor with abilities to manipulate shapes and the editor's state. You can create, modify, delete shapes, and control the internal state..\n",
      "- Editor: Manage the internal state, make document changes, or respond to changes.\n",
      "- Shapes: Visual elements on the canvas.\n",
      "  - Shapes:\n",
      "    {'name': 'draw', 'description': 'Create shapes with custom paths.'}\n",
      "    {'name': 'text', 'description': 'Add text.'}\n",
      "    {'name': 'arrow', 'description': 'Draw an arrow between points'}\n",
      "    {'name': 'geo', 'description': 'Create geometric shapes'}\n",
      "Every prompt will include the current state and user's request. Response with the sequence of function calls to perform the user's request.\n",
      "\n",
      "\u001b[0m\n",
      "\u001b[31msystem: Current state: {'screen_bounds': {'x': 0, 'y': 0, 'w': 1512, 'h': 610}, 'shapes': [{'x': 391.20834875401147, 'y': 237.18911086754463, 'rotation': 5.759586531581287, 'id': 'shape:shape-0', 'type': 'geo', 'props': {'w': 130, 'h': 70, 'geo': 'rectangle', 'text': 'display-0'}}, {'x': 262.8108891324554, 'y': 161.20834875401147, 'id': 'shape:shape-1', 'type': 'geo', 'props': {'w': 130, 'h': 70, 'geo': 'rectangle', 'color': 'blue', 'text': 'display-1'}}, {'x': 630, 'y': 170, 'rotation': 3.141592653589793, 'id': 'shape:shape-2', 'type': 'geo', 'props': {'w': 130, 'h': 70, 'geo': 'rectangle', 'text': 'display-2'}}], 'selected_shape_ids': []}\n",
      "\u001b[0m\n",
      "\u001b[32muser: Align all of the shapes horizontally in a row, with all text facing upright.\n",
      "\u001b[0m\n",
      "\u001b[34massistant: [\n",
      "  {\"function\": \"functions.update_shape\", \"args\": {\"id\": \"shape:shape-0\", \"x\": 200, \"y\": 300, \"rotation\": 0}},\n",
      "  {\"function\": \"functions.update_shape\", \"args\": {\"id\": \"shape:shape-1\", \"x\": 400, \"y\": 300, \"rotation\": 0}},\n",
      "  {\"function\": \"functions.update_shape\", \"args\": {\"id\": \"shape:shape-2\", \"x\": 600, \"y\": 300, \"rotation\": 0}}\n",
      "]\n",
      "\u001b[0m\n"
     ]
    }
   ],
   "source": [
    "pretty_print_conversation(messages)\n"
   ]
  },
  {
   "cell_type": "code",
   "execution_count": 46,
   "id": "3ca4be3a",
   "metadata": {},
   "outputs": [
    {
     "name": "stdout",
     "output_type": "stream",
     "text": [
      "\u001b[31msystem: You are responsible for managing a tldraw canvas shape editor with abilities to manipulate shapes and the editor's state. You can create, modify, delete shapes, and control the internal state..\n",
      "- Editor: Manage the internal state, make document changes, or respond to changes.\n",
      "- Shapes: Visual elements on the canvas.\n",
      "  - Shapes:\n",
      "    {'name': 'draw', 'description': 'Create shapes with custom paths.'}\n",
      "    {'name': 'text', 'description': 'Add text.'}\n",
      "    {'name': 'arrow', 'description': 'Draw an arrow between points'}\n",
      "    {'name': 'geo', 'description': 'Create geometric shapes'}\n",
      "Every prompt will include the current state and user's request. Response with the sequence of function calls to perform the user's request.\n",
      "\n",
      "\u001b[0m\n",
      "\u001b[31msystem: Current state: {'screen_bounds': {'x': 0, 'y': 0, 'w': 1512, 'h': 610}, 'shapes': [{'x': 391.20834875401147, 'y': 237.18911086754463, 'rotation': 5.759586531581287, 'id': 'shape:shape-0', 'type': 'geo', 'props': {'w': 130, 'h': 70, 'geo': 'rectangle', 'text': 'display-0'}}, {'x': 262.8108891324554, 'y': 161.20834875401147, 'id': 'shape:shape-1', 'type': 'geo', 'props': {'w': 130, 'h': 70, 'geo': 'rectangle', 'color': 'blue', 'text': 'display-1'}}, {'x': 630, 'y': 170, 'rotation': 3.141592653589793, 'id': 'shape:shape-2', 'type': 'geo', 'props': {'w': 130, 'h': 70, 'geo': 'rectangle', 'text': 'display-2'}}], 'selected_shape_ids': []}\n",
      "\u001b[0m\n",
      "\u001b[32muser: Align all of the shapes horizontally in a row, with all text facing upright.\n",
      "\u001b[0m\n",
      "\u001b[34massistant: [\n",
      "  {\"function\": \"functions.update_shape\", \"args\": {\"id\": \"shape:shape-0\", \"x\": 200, \"y\": 300, \"rotation\": 0}},\n",
      "  {\"function\": \"functions.update_shape\", \"args\": {\"id\": \"shape:shape-1\", \"x\": 400, \"y\": 300, \"rotation\": 0}},\n",
      "  {\"function\": \"functions.update_shape\", \"args\": {\"id\": \"shape:shape-2\", \"x\": 600, \"y\": 300, \"rotation\": 0}}\n",
      "]\n",
      "\u001b[0m\n"
     ]
    }
   ],
   "source": [
    "pretty_print_conversation(messages)\n"
   ]
  }
 ],
 "metadata": {
  "kernelspec": {
   "display_name": "Python 3 (ipykernel)",
   "language": "python",
   "name": "python3"
  },
  "language_info": {
   "codemirror_mode": {
    "name": "ipython",
    "version": 3
   },
   "file_extension": ".py",
   "mimetype": "text/x-python",
   "name": "python",
   "nbconvert_exporter": "python",
   "pygments_lexer": "ipython3",
   "version": "3.11.4"
  }
 },
 "nbformat": 4,
 "nbformat_minor": 5
}
